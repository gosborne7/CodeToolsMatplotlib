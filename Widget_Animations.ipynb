{
  "nbformat": 4,
  "nbformat_minor": 0,
  "metadata": {
    "colab": {
      "name": "Widget_Animations.ipynb",
      "provenance": []
    },
    "kernelspec": {
      "name": "python3",
      "display_name": "Python 3"
    },
    "language_info": {
      "name": "python"
    },
    "accelerator": "GPU",
    "widgets": {
      "application/vnd.jupyter.widget-state+json": {
        "5409ad7163224961be0d0500ee07819e": {
          "model_module": "@jupyter-widgets/controls",
          "model_name": "VBoxModel",
          "model_module_version": "1.5.0",
          "state": {
            "_dom_classes": [
              "widget-interact"
            ],
            "_model_module": "@jupyter-widgets/controls",
            "_model_module_version": "1.5.0",
            "_model_name": "VBoxModel",
            "_view_count": null,
            "_view_module": "@jupyter-widgets/controls",
            "_view_module_version": "1.5.0",
            "_view_name": "VBoxView",
            "box_style": "",
            "children": [
              "IPY_MODEL_4dc12f27b2eb4b87926a90d698f5af13",
              "IPY_MODEL_860e600ad8f74548a8c5ee2d6d31e975",
              "IPY_MODEL_217ea4d8ba804d6386bba2997276ba14"
            ],
            "layout": "IPY_MODEL_0d1db17ae2a742d2aa5e4d352a878ce0"
          }
        },
        "4dc12f27b2eb4b87926a90d698f5af13": {
          "model_module": "@jupyter-widgets/controls",
          "model_name": "FloatSliderModel",
          "model_module_version": "1.5.0",
          "state": {
            "_dom_classes": [],
            "_model_module": "@jupyter-widgets/controls",
            "_model_module_version": "1.5.0",
            "_model_name": "FloatSliderModel",
            "_view_count": null,
            "_view_module": "@jupyter-widgets/controls",
            "_view_module_version": "1.5.0",
            "_view_name": "FloatSliderView",
            "continuous_update": true,
            "description": "A",
            "description_tooltip": null,
            "disabled": false,
            "layout": "IPY_MODEL_71837c6887664c32903d41c05a621a37",
            "max": 3,
            "min": -3,
            "orientation": "horizontal",
            "readout": true,
            "readout_format": ".2f",
            "step": 0.1,
            "style": "IPY_MODEL_554b216f3d7040e0b0cd6c3b671b8058",
            "value": 0
          }
        },
        "860e600ad8f74548a8c5ee2d6d31e975": {
          "model_module": "@jupyter-widgets/controls",
          "model_name": "FloatSliderModel",
          "model_module_version": "1.5.0",
          "state": {
            "_dom_classes": [],
            "_model_module": "@jupyter-widgets/controls",
            "_model_module_version": "1.5.0",
            "_model_name": "FloatSliderModel",
            "_view_count": null,
            "_view_module": "@jupyter-widgets/controls",
            "_view_module_version": "1.5.0",
            "_view_name": "FloatSliderView",
            "continuous_update": true,
            "description": "B",
            "description_tooltip": null,
            "disabled": false,
            "layout": "IPY_MODEL_3a4b427ce7e9419a94f198bf74703a43",
            "max": 5,
            "min": 1,
            "orientation": "horizontal",
            "readout": true,
            "readout_format": ".2f",
            "step": 0.5,
            "style": "IPY_MODEL_2cafce9a15004afb8d944af4622b9c3e",
            "value": 3
          }
        },
        "217ea4d8ba804d6386bba2997276ba14": {
          "model_module": "@jupyter-widgets/output",
          "model_name": "OutputModel",
          "model_module_version": "1.0.0",
          "state": {
            "_dom_classes": [],
            "_model_module": "@jupyter-widgets/output",
            "_model_module_version": "1.0.0",
            "_model_name": "OutputModel",
            "_view_count": null,
            "_view_module": "@jupyter-widgets/output",
            "_view_module_version": "1.0.0",
            "_view_name": "OutputView",
            "layout": "IPY_MODEL_feccaeaf1fb14cf08680bf294e6b1379",
            "msg_id": "",
            "outputs": [
              {
                "output_type": "display_data",
                "data": {
                  "text/plain": "<Figure size 432x288 with 1 Axes>",
                  "image/png": "iVBORw0KGgoAAAANSUhEUgAAAXIAAAD8CAYAAABq6S8VAAAABHNCSVQICAgIfAhkiAAAAAlwSFlzAAALEgAACxIB0t1+/AAAADh0RVh0U29mdHdhcmUAbWF0cGxvdGxpYiB2ZXJzaW9uMy4yLjIsIGh0dHA6Ly9tYXRwbG90bGliLm9yZy+WH4yJAAAM80lEQVR4nO3cf4jk9X3H8efLO4PGNb0/IhvjHVWIBKyEmllSxJJ206S9tGnThhYi1NIfsBSaYklLiBVqpYQWAqF/JLQUtbXUZglJJIm19Qfdq5VG4541xvNUJKT1JMWEcE22hQa9d/+4KVx0vduZ+ep3383zAYM7OzOfeX9Qnjt+5zuTqkKS1NdZYw8gSVqMIZek5gy5JDVnyCWpOUMuSc0ZcklqbuGQJzknyZeSfDnJkSQ3DjGYJGlnsuh55EkCnFdVW0nOBu4Hrq2qB4YYUJJ0ensXXaBO/iXYml49e3rxU0aS9CpZOOQASfYAh4E3AZ+oqge3uc8asAZw7rnnTg4cODDXc504cYKzzup9aL/7Hpx/fN330H1+GGcPTz311Der6oKX3FBVg12AfcAGcPnp7jeZTGpeGxsbcz92t+i+B+cfX/c9dJ+/apw9AJu1TVMH/XNSVcenIT845LqSpJc3xFkrFyTZN/35XOBdwBOLritJ2pkhjpFfCNw6PU5+FvCpqrpjgHUlSTswxFkrjwJXDDCLJGkOvd82liQZcknqzpBLUnOGXJKaM+SS1Jwhl6TmDLkkNWfIJak5Qy5JzRlySWrOkEtSc4Zckpoz5JLUnCGXpOYMuSQ1Z8glqTlDLknNGXJJas6QS1JzhlySmjPkktScIZek5gy5JDVnyCWpOUMuSc0ZcklqzpBLUnMLhzzJgSQbSR5PciTJtUMMJknamb0DrPE88LtV9XCS84HDSe6pqscHWFuSdAYLvyKvqq9X1cPTn78DHAUuWnRdSdLODHqMPMnFwBXAg0OuK0l6eamqYRZKloB/Aj5SVZ/d5vY1YA1geXl5sr6+PtfzbG1tsbS0tMioo+u+B+cfX/c9dJ8fxtnD6urq4apaeckNVbXwBTgbuAv44E7uP5lMal4bGxtzP3a36L4H5x9f9z10n79qnD0Am7VNU4c4ayXAzcDRqvrYoutJkmYzxDHyq4BrgHckeWR6+ekB1pUk7cDCpx9W1f1ABphFkjQHP9kpSc0ZcklqzpBLUnOGXJKaM+SS1Jwhl6TmDLkkNWfIJak5Qy5JzRlySWrOkEtSc4Zckpoz5JLUnCGXpOYMuSQ1Z8glqTlDLknNGXJJas6QS1JzhlySmjPkktScIZek5gy5JDVnyCWpOUMuSc0ZcklqzpBLUnOGXJKaGyTkSW5J8lySx4ZYT5K0c0O9Iv8r4OBAa0mSZjBIyKvqPuBbQ6wlSZpNqmqYhZKLgTuq6vKXuX0NWANYXl6erK+vz/U8W1tbLC0tzTnl7tB9D84/vu576D4/jLOH1dXVw1W18pIbqmqQC3Ax8NhO7juZTGpeGxsbcz92t+i+B+cfX/c9dJ+/apw9AJu1TVM9a0WSmjPkktTcUKcffhL4IvDmJMeS/MYQ60qSzmzvEItU1dVDrCNJmp2HViSpOUMuSc0ZcklqzpBLUnOGXJKaM+SS1Jwhl6TmDLkkNWfIJak5Qy5JzRlySWrOkEtSc4Zckpoz5JLUnCGXpOYMuSQ1Z8glqTlDLknNGXJJas6QS1JzhlySmjPkktScIZek5gy5JDVnyCWpOUMuSc0ZcklqbpCQJzmY5MkkTyf58BBrSpJ2ZuGQJ9kDfAJ4N3AZcHWSyxZdV5K0M6mqxRZIrgT+sKp+anr9OoCq+uOXe8zKykptbm7O/Fw3fuEI//L4v7Nv3755x90Vjh8/3noPzj++7nvoPj/Mv4fL3vg6bvjZH5rrOZMcrqqVF/9+71yrfa+LgGdOuX4M+JFtBlgD1gCWl5c5dOjQzE907Nj/8MILL3D8+PH5Jt0luu/B+cfXfQ/d54f593DsxLc5dOgbww5TVQtdgF8Ebjrl+jXAx0/3mMlkUvPa2NiY+7G7Rfc9OP/4uu+h+/xV4+wB2KxtmjrEm53PAgdOub5/+jtJ0qtgiJA/BFya5JIkrwHeD3x+gHUlSTuw8DHyqno+yQeAu4A9wC1VdWThySRJOzLEm51U1Z3AnUOsJUmajZ/slKTmDLkkNWfIJak5Qy5JzRlySWrOkEtSc4Zckpoz5JLUnCGXpOYMuSQ1Z8glqTlDLknNGXJJas6QS1JzhlySmjPkktScIZek5gy5JDVnyCWpOUMuSc0ZcklqzpBLUnOGXJKaM+SS1Jwhl6TmDLkkNWfIJam5hUKe5JeSHElyIsnKUENJknZu0VfkjwHvA+4bYBZJ0hz2LvLgqjoKkGSYaSRJM0tVLb5Icgj4varaPM191oA1gOXl5cn6+vpcz7W1tcXS0tJcj90tuu/B+cfXfQ/d54dx9rC6unq4ql56GLuqTnsB7uXkIZQXX957yn0OAStnWuv/LpPJpOa1sbEx92N3i+57cP7xdd9D9/mrxtkDsFnbNPWMh1aq6p1D/TWRJA3P0w8lqblFTz/8hSTHgCuBv0ty1zBjSZJ2atGzVm4Hbh9oFknSHDy0IknNGXJJas6QS1JzhlySmjPkktScIZek5gy5JDVnyCWpOUMuSc0ZcklqzpBLUnOGXJKaM+SS1Jwhl6TmDLkkNWfIJak5Qy5JzRlySWrOkEtSc4Zckpoz5JLUnCGXpOYMuSQ1Z8glqTlDLknNGXJJas6QS1JzC4U8yUeTPJHk0SS3J9k31GCSpJ1Z9BX5PcDlVfUW4CngusVHkiTNYqGQV9XdVfX89OoDwP7FR5IkzWLIY+S/Dvz9gOtJknYgVXX6OyT3Am/Y5qbrq+pz0/tcD6wA76uXWTDJGrAGsLy8PFlfX59r4K2tLZaWluZ67G7RfQ/OP77ue+g+P4yzh9XV1cNVtfKSG6pqoQvwq8AXgdfu9DGTyaTmtbGxMfdjd4vue3D+8XXfQ/f5q8bZA7BZ2zR17yJ/HZIcBD4E/FhV/fcia0mS5rPoMfKPA+cD9yR5JMmfDzCTJGkGC70ir6o3DTWIJGk+frJTkpoz5JLUnCGXpOYMuSQ1Z8glqTlDLknNGXJJas6QS1JzhlySmjPkktScIZek5gy5JDVnyCWpOUMuSc0ZcklqzpBLUnOGXJKaM+SS1Jwhl6TmDLkkNWfIJak5Qy5JzRlySWrOkEtSc4Zckpoz5JLUnCGXpOYMuSQ1t1DIk/xRkkeTPJLk7iRvHGowSdLOLPqK/KNV9Zaq+mHgDuAPBphJkjSDhUJeVd8+5ep5QC02jiRpVnsXXSDJR4BfAf4TWD3N/daAtenVrSRPzvmUrwe+Oedjd4vue3D+8XXfQ/f5YZw9/OB2v0zV6V9EJ7kXeMM2N11fVZ875X7XAedU1Q2LTHkmSTarauWVfI5XWvc9OP/4uu+h+/ywu/ZwxlfkVfXOHa51G3An8IqGXJL0vRY9a+XSU66+F3hisXEkSbNa9Bj5nyR5M3AC+DfgNxcf6Yz+4lV4jlda9z04//i676H7/LCL9nDGY+SSpN3NT3ZKUnOGXJKaaxXyJAeTPJnk6SQfHnueWSW5JclzSR4be5Z5JDmQZCPJ40mOJLl27JlmkeScJF9K8uXp/DeOPdM8kuxJ8q9J7hh7lnkk+VqSr0y/2mNz7HlmlWRfkk8neSLJ0SRXjj5Tl2PkSfYATwHvAo4BDwFXV9Xjow42gyRvB7aAv66qy8eeZ1ZJLgQurKqHk5wPHAZ+vsu/gyQBzquqrSRnA/cD11bVAyOPNpMkHwRWgNdV1XvGnmdWSb4GrFRVyw8EJbkV+OequinJa4DXVtXxMWfq9Ir8bcDTVfXVqvousM7JUx7bqKr7gG+NPce8qurrVfXw9OfvAEeBi8adaufqpK3p1bOnlx6vZKaS7Ad+Brhp7Fm+HyX5AeDtwM0AVfXdsSMOvUJ+EfDMKdeP0Sgi/98kuRi4Anhw3ElmMz0s8QjwHHBPVbWaH/hT4EOcPOW3qwLuTnJ4+tUdnVwCfAP4y+nhrZuSnDf2UJ1Crl0iyRLwGeB3XvTFabteVb0w/bbO/cDbkrQ5xJXkPcBzVXV47FkW9KNV9Vbg3cBvTQ85drEXeCvwZ1V1BfBfwOjv13UK+bPAgVOu75/+Tq+i6bHlzwC3VdVnx55nXtP/Hd4ADo49ywyuAn5ueox5HXhHkr8Zd6TZVdWz038+B9zOycOmXRwDjp3yf3Kf5mTYR9Up5A8Blya5ZPoGw/uBz4880/eV6ZuFNwNHq+pjY88zqyQXJNk3/flcTr5x3uZrJarquqraX1UXc/K//3+sql8eeayZJDlv+kY500MSPwm0OYurqv4DeGb6iXaAnwBGf7N/4a+xfbVU1fNJPgDcBewBbqmqIyOPNZMknwR+HHh9kmPADVV187hTzeQq4BrgK9PjzAC/X1V3jjjTLC4Ebp2eAXUW8KmqankKX2PLwO0nXxOwF/jbqvqHcUea2W8Dt01fUH4V+LWR5+lz+qEkaXudDq1IkrZhyCWpOUMuSc0ZcklqzpBLUnOGXJKaM+SS1Nz/AucbXfIzsm1rAAAAAElFTkSuQmCC\n"
                },
                "metadata": {
                  "needs_background": "light"
                }
              }
            ]
          }
        },
        "0d1db17ae2a742d2aa5e4d352a878ce0": {
          "model_module": "@jupyter-widgets/base",
          "model_name": "LayoutModel",
          "model_module_version": "1.2.0",
          "state": {
            "_model_module": "@jupyter-widgets/base",
            "_model_module_version": "1.2.0",
            "_model_name": "LayoutModel",
            "_view_count": null,
            "_view_module": "@jupyter-widgets/base",
            "_view_module_version": "1.2.0",
            "_view_name": "LayoutView",
            "align_content": null,
            "align_items": null,
            "align_self": null,
            "border": null,
            "bottom": null,
            "display": null,
            "flex": null,
            "flex_flow": null,
            "grid_area": null,
            "grid_auto_columns": null,
            "grid_auto_flow": null,
            "grid_auto_rows": null,
            "grid_column": null,
            "grid_gap": null,
            "grid_row": null,
            "grid_template_areas": null,
            "grid_template_columns": null,
            "grid_template_rows": null,
            "height": null,
            "justify_content": null,
            "justify_items": null,
            "left": null,
            "margin": null,
            "max_height": null,
            "max_width": null,
            "min_height": null,
            "min_width": null,
            "object_fit": null,
            "object_position": null,
            "order": null,
            "overflow": null,
            "overflow_x": null,
            "overflow_y": null,
            "padding": null,
            "right": null,
            "top": null,
            "visibility": null,
            "width": null
          }
        },
        "71837c6887664c32903d41c05a621a37": {
          "model_module": "@jupyter-widgets/base",
          "model_name": "LayoutModel",
          "model_module_version": "1.2.0",
          "state": {
            "_model_module": "@jupyter-widgets/base",
            "_model_module_version": "1.2.0",
            "_model_name": "LayoutModel",
            "_view_count": null,
            "_view_module": "@jupyter-widgets/base",
            "_view_module_version": "1.2.0",
            "_view_name": "LayoutView",
            "align_content": null,
            "align_items": null,
            "align_self": null,
            "border": null,
            "bottom": null,
            "display": null,
            "flex": null,
            "flex_flow": null,
            "grid_area": null,
            "grid_auto_columns": null,
            "grid_auto_flow": null,
            "grid_auto_rows": null,
            "grid_column": null,
            "grid_gap": null,
            "grid_row": null,
            "grid_template_areas": null,
            "grid_template_columns": null,
            "grid_template_rows": null,
            "height": null,
            "justify_content": null,
            "justify_items": null,
            "left": null,
            "margin": null,
            "max_height": null,
            "max_width": null,
            "min_height": null,
            "min_width": null,
            "object_fit": null,
            "object_position": null,
            "order": null,
            "overflow": null,
            "overflow_x": null,
            "overflow_y": null,
            "padding": null,
            "right": null,
            "top": null,
            "visibility": null,
            "width": null
          }
        },
        "554b216f3d7040e0b0cd6c3b671b8058": {
          "model_module": "@jupyter-widgets/controls",
          "model_name": "SliderStyleModel",
          "model_module_version": "1.5.0",
          "state": {
            "_model_module": "@jupyter-widgets/controls",
            "_model_module_version": "1.5.0",
            "_model_name": "SliderStyleModel",
            "_view_count": null,
            "_view_module": "@jupyter-widgets/base",
            "_view_module_version": "1.2.0",
            "_view_name": "StyleView",
            "description_width": "",
            "handle_color": null
          }
        },
        "3a4b427ce7e9419a94f198bf74703a43": {
          "model_module": "@jupyter-widgets/base",
          "model_name": "LayoutModel",
          "model_module_version": "1.2.0",
          "state": {
            "_model_module": "@jupyter-widgets/base",
            "_model_module_version": "1.2.0",
            "_model_name": "LayoutModel",
            "_view_count": null,
            "_view_module": "@jupyter-widgets/base",
            "_view_module_version": "1.2.0",
            "_view_name": "LayoutView",
            "align_content": null,
            "align_items": null,
            "align_self": null,
            "border": null,
            "bottom": null,
            "display": null,
            "flex": null,
            "flex_flow": null,
            "grid_area": null,
            "grid_auto_columns": null,
            "grid_auto_flow": null,
            "grid_auto_rows": null,
            "grid_column": null,
            "grid_gap": null,
            "grid_row": null,
            "grid_template_areas": null,
            "grid_template_columns": null,
            "grid_template_rows": null,
            "height": null,
            "justify_content": null,
            "justify_items": null,
            "left": null,
            "margin": null,
            "max_height": null,
            "max_width": null,
            "min_height": null,
            "min_width": null,
            "object_fit": null,
            "object_position": null,
            "order": null,
            "overflow": null,
            "overflow_x": null,
            "overflow_y": null,
            "padding": null,
            "right": null,
            "top": null,
            "visibility": null,
            "width": null
          }
        },
        "2cafce9a15004afb8d944af4622b9c3e": {
          "model_module": "@jupyter-widgets/controls",
          "model_name": "SliderStyleModel",
          "model_module_version": "1.5.0",
          "state": {
            "_model_module": "@jupyter-widgets/controls",
            "_model_module_version": "1.5.0",
            "_model_name": "SliderStyleModel",
            "_view_count": null,
            "_view_module": "@jupyter-widgets/base",
            "_view_module_version": "1.2.0",
            "_view_name": "StyleView",
            "description_width": "",
            "handle_color": null
          }
        },
        "feccaeaf1fb14cf08680bf294e6b1379": {
          "model_module": "@jupyter-widgets/base",
          "model_name": "LayoutModel",
          "model_module_version": "1.2.0",
          "state": {
            "_model_module": "@jupyter-widgets/base",
            "_model_module_version": "1.2.0",
            "_model_name": "LayoutModel",
            "_view_count": null,
            "_view_module": "@jupyter-widgets/base",
            "_view_module_version": "1.2.0",
            "_view_name": "LayoutView",
            "align_content": null,
            "align_items": null,
            "align_self": null,
            "border": null,
            "bottom": null,
            "display": null,
            "flex": null,
            "flex_flow": null,
            "grid_area": null,
            "grid_auto_columns": null,
            "grid_auto_flow": null,
            "grid_auto_rows": null,
            "grid_column": null,
            "grid_gap": null,
            "grid_row": null,
            "grid_template_areas": null,
            "grid_template_columns": null,
            "grid_template_rows": null,
            "height": null,
            "justify_content": null,
            "justify_items": null,
            "left": null,
            "margin": null,
            "max_height": null,
            "max_width": null,
            "min_height": null,
            "min_width": null,
            "object_fit": null,
            "object_position": null,
            "order": null,
            "overflow": null,
            "overflow_x": null,
            "overflow_y": null,
            "padding": null,
            "right": null,
            "top": null,
            "visibility": null,
            "width": null
          }
        },
        "4405fe7edbfc4d2f8c960909c275566f": {
          "model_module": "@jupyter-widgets/controls",
          "model_name": "VBoxModel",
          "model_module_version": "1.5.0",
          "state": {
            "_dom_classes": [
              "widget-interact"
            ],
            "_model_module": "@jupyter-widgets/controls",
            "_model_module_version": "1.5.0",
            "_model_name": "VBoxModel",
            "_view_count": null,
            "_view_module": "@jupyter-widgets/controls",
            "_view_module_version": "1.5.0",
            "_view_name": "VBoxView",
            "box_style": "",
            "children": [
              "IPY_MODEL_39a6a4a352e34c919ee27a33e617f3b5",
              "IPY_MODEL_a2d372369c714698a22e1f01c68212a0"
            ],
            "layout": "IPY_MODEL_9aa76b5630df495ab8f9f35ee935acfa"
          }
        },
        "39a6a4a352e34c919ee27a33e617f3b5": {
          "model_module": "@jupyter-widgets/controls",
          "model_name": "IntSliderModel",
          "model_module_version": "1.5.0",
          "state": {
            "_dom_classes": [],
            "_model_module": "@jupyter-widgets/controls",
            "_model_module_version": "1.5.0",
            "_model_name": "IntSliderModel",
            "_view_count": null,
            "_view_module": "@jupyter-widgets/controls",
            "_view_module_version": "1.5.0",
            "_view_name": "IntSliderView",
            "continuous_update": true,
            "description": "timestep",
            "description_tooltip": null,
            "disabled": false,
            "layout": "IPY_MODEL_89af69f22fc24843a796f34725f946d6",
            "max": 50,
            "min": 1,
            "orientation": "horizontal",
            "readout": true,
            "readout_format": "d",
            "step": 1,
            "style": "IPY_MODEL_5be70e6b0cf34ac09dfe29fd52632ef1",
            "value": 22
          }
        },
        "a2d372369c714698a22e1f01c68212a0": {
          "model_module": "@jupyter-widgets/output",
          "model_name": "OutputModel",
          "model_module_version": "1.0.0",
          "state": {
            "_dom_classes": [],
            "_model_module": "@jupyter-widgets/output",
            "_model_module_version": "1.0.0",
            "_model_name": "OutputModel",
            "_view_count": null,
            "_view_module": "@jupyter-widgets/output",
            "_view_module_version": "1.0.0",
            "_view_name": "OutputView",
            "layout": "IPY_MODEL_f1fb530b611f4558b89d4fb06e0db44a",
            "msg_id": "",
            "outputs": [
              {
                "output_type": "display_data",
                "data": {
                  "text/plain": "<Figure size 432x288 with 1 Axes>",
                  "image/png": "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\n"
                },
                "metadata": {
                  "needs_background": "light"
                }
              }
            ]
          }
        },
        "9aa76b5630df495ab8f9f35ee935acfa": {
          "model_module": "@jupyter-widgets/base",
          "model_name": "LayoutModel",
          "model_module_version": "1.2.0",
          "state": {
            "_model_module": "@jupyter-widgets/base",
            "_model_module_version": "1.2.0",
            "_model_name": "LayoutModel",
            "_view_count": null,
            "_view_module": "@jupyter-widgets/base",
            "_view_module_version": "1.2.0",
            "_view_name": "LayoutView",
            "align_content": null,
            "align_items": null,
            "align_self": null,
            "border": null,
            "bottom": null,
            "display": null,
            "flex": null,
            "flex_flow": null,
            "grid_area": null,
            "grid_auto_columns": null,
            "grid_auto_flow": null,
            "grid_auto_rows": null,
            "grid_column": null,
            "grid_gap": null,
            "grid_row": null,
            "grid_template_areas": null,
            "grid_template_columns": null,
            "grid_template_rows": null,
            "height": null,
            "justify_content": null,
            "justify_items": null,
            "left": null,
            "margin": null,
            "max_height": null,
            "max_width": null,
            "min_height": null,
            "min_width": null,
            "object_fit": null,
            "object_position": null,
            "order": null,
            "overflow": null,
            "overflow_x": null,
            "overflow_y": null,
            "padding": null,
            "right": null,
            "top": null,
            "visibility": null,
            "width": null
          }
        },
        "89af69f22fc24843a796f34725f946d6": {
          "model_module": "@jupyter-widgets/base",
          "model_name": "LayoutModel",
          "model_module_version": "1.2.0",
          "state": {
            "_model_module": "@jupyter-widgets/base",
            "_model_module_version": "1.2.0",
            "_model_name": "LayoutModel",
            "_view_count": null,
            "_view_module": "@jupyter-widgets/base",
            "_view_module_version": "1.2.0",
            "_view_name": "LayoutView",
            "align_content": null,
            "align_items": null,
            "align_self": null,
            "border": null,
            "bottom": null,
            "display": null,
            "flex": null,
            "flex_flow": null,
            "grid_area": null,
            "grid_auto_columns": null,
            "grid_auto_flow": null,
            "grid_auto_rows": null,
            "grid_column": null,
            "grid_gap": null,
            "grid_row": null,
            "grid_template_areas": null,
            "grid_template_columns": null,
            "grid_template_rows": null,
            "height": null,
            "justify_content": null,
            "justify_items": null,
            "left": null,
            "margin": null,
            "max_height": null,
            "max_width": null,
            "min_height": null,
            "min_width": null,
            "object_fit": null,
            "object_position": null,
            "order": null,
            "overflow": null,
            "overflow_x": null,
            "overflow_y": null,
            "padding": null,
            "right": null,
            "top": null,
            "visibility": null,
            "width": null
          }
        },
        "5be70e6b0cf34ac09dfe29fd52632ef1": {
          "model_module": "@jupyter-widgets/controls",
          "model_name": "SliderStyleModel",
          "model_module_version": "1.5.0",
          "state": {
            "_model_module": "@jupyter-widgets/controls",
            "_model_module_version": "1.5.0",
            "_model_name": "SliderStyleModel",
            "_view_count": null,
            "_view_module": "@jupyter-widgets/base",
            "_view_module_version": "1.2.0",
            "_view_name": "StyleView",
            "description_width": "",
            "handle_color": null
          }
        },
        "f1fb530b611f4558b89d4fb06e0db44a": {
          "model_module": "@jupyter-widgets/base",
          "model_name": "LayoutModel",
          "model_module_version": "1.2.0",
          "state": {
            "_model_module": "@jupyter-widgets/base",
            "_model_module_version": "1.2.0",
            "_model_name": "LayoutModel",
            "_view_count": null,
            "_view_module": "@jupyter-widgets/base",
            "_view_module_version": "1.2.0",
            "_view_name": "LayoutView",
            "align_content": null,
            "align_items": null,
            "align_self": null,
            "border": null,
            "bottom": null,
            "display": null,
            "flex": null,
            "flex_flow": null,
            "grid_area": null,
            "grid_auto_columns": null,
            "grid_auto_flow": null,
            "grid_auto_rows": null,
            "grid_column": null,
            "grid_gap": null,
            "grid_row": null,
            "grid_template_areas": null,
            "grid_template_columns": null,
            "grid_template_rows": null,
            "height": null,
            "justify_content": null,
            "justify_items": null,
            "left": null,
            "margin": null,
            "max_height": null,
            "max_width": null,
            "min_height": null,
            "min_width": null,
            "object_fit": null,
            "object_position": null,
            "order": null,
            "overflow": null,
            "overflow_x": null,
            "overflow_y": null,
            "padding": null,
            "right": null,
            "top": null,
            "visibility": null,
            "width": null
          }
        }
      }
    }
  },
  "cells": [
    {
      "cell_type": "code",
      "execution_count": 3,
      "metadata": {
        "id": "TyNPRTLBZ3zG"
      },
      "outputs": [],
      "source": [
        "import numpy as np\n",
        "import matplotlib.pyplot as plt\n",
        "from ipywidgets import interactive\n",
        "\n"
      ]
    },
    {
      "cell_type": "code",
      "source": [
        "# set up the domain\n",
        "x = np.linspace(0, 2*np.pi, 100) # 100 points from 0 to 2pi\n"
      ],
      "metadata": {
        "id": "jPYvDWx0acV6"
      },
      "execution_count": 4,
      "outputs": []
    },
    {
      "cell_type": "code",
      "source": [
        "# define a function that takes in A and B and\n",
        "# outputs a plot\n",
        "\n",
        "def plotter(A,B):\n",
        "  y = A*np.sin(B*x)\n",
        "  plt.plot(x,y)\n",
        "  plt.grid()\n",
        "  plt.ylim(-3,3)\n",
        "  plt.show()"
      ],
      "metadata": {
        "id": "wh82QhJlauuM"
      },
      "execution_count": 7,
      "outputs": []
    },
    {
      "cell_type": "code",
      "source": [
        "plotter(1,2)"
      ],
      "metadata": {
        "colab": {
          "base_uri": "https://localhost:8080/",
          "height": 269
        },
        "id": "zRbEY1nGbr2E",
        "outputId": "755b9e32-1ae7-47b8-f61c-0bc2ac62d5f5"
      },
      "execution_count": 8,
      "outputs": [
        {
          "output_type": "display_data",
          "data": {
            "text/plain": [
              "<Figure size 432x288 with 1 Axes>"
            ],
            "image/png": "[encoded data removed]"
          },
          "metadata": {
            "needs_background": "light"
          }
        }
      ]
    },
    {
      "cell_type": "code",
      "source": [
        "# defines the interactive plotting tool:\n",
        "\n",
        "iplot = interactive(plotter,\n",
        "                    A=(-3, 3, 0.1),\n",
        "                    B=(1,5,0.5)\n",
        "                    )\n",
        "iplot # calls the interactive plotting tool"
      ],
      "metadata": {
        "colab": {
          "base_uri": "https://localhost:8080/",
          "height": 333,
          "referenced_widgets": [
            "5409ad7163224961be0d0500ee07819e",
            "4dc12f27b2eb4b87926a90d698f5af13",
            "860e600ad8f74548a8c5ee2d6d31e975",
            "217ea4d8ba804d6386bba2997276ba14",
            "0d1db17ae2a742d2aa5e4d352a878ce0",
            "71837c6887664c32903d41c05a621a37",
            "554b216f3d7040e0b0cd6c3b671b8058",
            "3a4b427ce7e9419a94f198bf74703a43",
            "2cafce9a15004afb8d944af4622b9c3e",
            "feccaeaf1fb14cf08680bf294e6b1379"
          ]
        },
        "id": "QSCWkW6jcM_H",
        "outputId": "011fadcf-39b8-45fd-88ed-ed20814263ff"
      },
      "execution_count": 9,
      "outputs": [
        {
          "output_type": "display_data",
          "data": {
            "text/plain": [
              "interactive(children=(FloatSlider(value=0.0, description='A', max=3.0, min=-3.0), FloatSlider(value=3.0, descr…"
            ],
            "application/vnd.jupyter.widget-view+json": {
              "version_major": 2,
              "version_minor": 0,
              "model_id": "5409ad7163224961be0d0500ee07819e"
            }
          },
          "metadata": {}
        }
      ]
    },
    {
      "cell_type": "code",
      "source": [
        "import numpy as np\n",
        "import matplotlib.pyplot as plt\n",
        "from ipywidgets import interactive\n",
        "\n",
        "t = np.arange(0,5,0.1) # times from 0 to 5 by steps of size 0.1"
      ],
      "metadata": {
        "id": "021oLdg4eThN"
      },
      "execution_count": 14,
      "outputs": []
    },
    {
      "cell_type": "code",
      "source": [
        "def plotter(timestep):\n",
        "  y = 3 - np.exp(t[:timestep]/2)\n",
        "  plt.plot(t[:timestep],y)\n",
        "  plt.grid()\n",
        "  plt.xlim(0,5)\n",
        "  plt.ylim(-10,3)\n",
        "  plt.show()\n",
        "\n",
        "iplot = interactive(plotter,\n",
        "                    timestep = (1, len(t)))\n",
        "                    \n",
        "iplot\n",
        "\n"
      ],
      "metadata": {
        "colab": {
          "base_uri": "https://localhost:8080/",
          "height": 297,
          "referenced_widgets": [
            "4405fe7edbfc4d2f8c960909c275566f",
            "39a6a4a352e34c919ee27a33e617f3b5",
            "a2d372369c714698a22e1f01c68212a0",
            "9aa76b5630df495ab8f9f35ee935acfa",
            "89af69f22fc24843a796f34725f946d6",
            "5be70e6b0cf34ac09dfe29fd52632ef1",
            "f1fb530b611f4558b89d4fb06e0db44a"
          ]
        },
        "id": "kfQz8flkfCuO",
        "outputId": "e1a22ea3-3979-45e9-930a-642b2de7313b"
      },
      "execution_count": 17,
      "outputs": [
        {
          "output_type": "display_data",
          "data": {
            "text/plain": [
              "interactive(children=(IntSlider(value=25, description='timestep', max=50, min=1), Output()), _dom_classes=('wi…"
            ],
            "application/vnd.jupyter.widget-view+json": {
              "version_major": 2,
              "version_minor": 0,
              "model_id": "4405fe7edbfc4d2f8c960909c275566f"
            }
          },
          "metadata": {}
        }
      ]
    }
  ]
}